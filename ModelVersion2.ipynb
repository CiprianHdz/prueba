{
 "cells": [
  {
   "metadata": {
    "ExecuteTime": {
     "end_time": "2025-01-21T05:51:34.041275Z",
     "start_time": "2025-01-21T05:51:34.027570Z"
    }
   },
   "cell_type": "code",
   "source": [
    "from sklearn.preprocessing import StandardScaler, MinMaxScaler, PowerTransformer,FunctionTransformer\n",
    "import pandas as pd\n",
    "import numpy as np\n",
    "from sklearn.compose import ColumnTransformer\n",
    "from sklearn.pipeline import Pipeline\n",
    "from sklearn.model_selection import train_test_split\n",
    "from sklearn.ensemble import RandomForestRegressor\n",
    "from sklearn.metrics import mean_squared_error\n",
    "import joblib"
   ],
   "id": "4890ca6a7896e12d",
   "outputs": [],
   "execution_count": 131
  },
  {
   "metadata": {
    "ExecuteTime": {
     "end_time": "2025-01-21T05:51:34.078864Z",
     "start_time": "2025-01-21T05:51:34.072212Z"
    }
   },
   "cell_type": "code",
   "source": [
    "\n",
    "# Define transformations\n",
    "transformers = [\n",
    "    (\"lux\", Pipeline([\n",
    "        (\"scaler\", MinMaxScaler()),\n",
    "        (\"transform\", PowerTransformer(method=\"yeo-johnson\"))\n",
    "            ]), [\"lux\"]),\n",
    "    (\"gox\", Pipeline([\n",
    "        (\"scaler\", StandardScaler()),\n",
    "        (\"transform\",PowerTransformer(method=\"yeo-johnson\"))\n",
    "    ]), [\"gox\"]),\n",
    "    (\"foo\", MinMaxScaler(), [\"foo\"]),\n",
    "    (\"xgt\", StandardScaler(), [\"xgt\"]),\n",
    "    (\"qgg\", StandardScaler(), [\"qgg\"]),\n",
    "    (\"bar\", Pipeline([\n",
    "        (\"scaler\", StandardScaler()),\n",
    "        (\"transform\", FunctionTransformer(np.log1p,feature_names_out='one-to-one'))\n",
    "    ]), [\"bar\"]),\n",
    "    (\"hrt\", Pipeline([\n",
    "        (\"scaler\", MinMaxScaler()),\n",
    "        (\"transform\", FunctionTransformer(np.log1p,feature_names_out='one-to-one'))\n",
    "    ]), [\"hrt\"]),\n",
    "    (\"juu\", MinMaxScaler(), [\"juu\"]),\n",
    "    (\"yyz\",Pipeline([\n",
    "        (\"scaler\", StandardScaler()),\n",
    "        (\"transform\", PowerTransformer(method=\"yeo-johnson\"))\n",
    "            ]), [\"yyz\"]),\n",
    "    (\"drt\", Pipeline([\n",
    "        (\"scaler\", MinMaxScaler()),\n",
    "        (\"transform\", PowerTransformer(method=\"yeo-johnson\"))\n",
    "            ]), [\"drt\"])\n",
    "]\n",
    "\n",
    "# ColumnTransformer replaces each column rather than adding new columns\n",
    "column_transformer = ColumnTransformer(\n",
    "    transformers=transformers,\n",
    "    remainder=\"drop\",  # Keep untouched columns in their original position\n",
    "    verbose_feature_names_out=False  # Use original column names\n",
    ")\n",
    "\n",
    "# Build the pipeline\n",
    "pipeline = Pipeline(steps=[\n",
    "    (\"preprocessing\", column_transformer)\n",
    "])"
   ],
   "id": "e120de0789684a7e",
   "outputs": [],
   "execution_count": 132
  },
  {
   "metadata": {
    "ExecuteTime": {
     "end_time": "2025-01-21T05:51:34.107892Z",
     "start_time": "2025-01-21T05:51:34.091280Z"
    }
   },
   "cell_type": "code",
   "source": [
    "training_path = \"/Users/cipri/Downloads/DataScience:MLTest/training.csv\"\n",
    "data = pd.read_csv(training_path)"
   ],
   "id": "4fdc2a1b1a485872",
   "outputs": [],
   "execution_count": 133
  },
  {
   "metadata": {
    "ExecuteTime": {
     "end_time": "2025-01-21T05:51:34.115146Z",
     "start_time": "2025-01-21T05:51:34.109267Z"
    }
   },
   "cell_type": "code",
   "source": [
    "data[\"date\"]=pd.to_datetime(data[\"date\"])\n",
    "data[\"year\"] = data[\"date\"].dt.year"
   ],
   "id": "20fcdb039b696f0a",
   "outputs": [],
   "execution_count": 134
  },
  {
   "metadata": {
    "ExecuteTime": {
     "end_time": "2025-01-21T05:51:34.119328Z",
     "start_time": "2025-01-21T05:51:34.116137Z"
    }
   },
   "cell_type": "code",
   "source": [
    "numerical_features = ['drt','bar','xgt', 'qgg', 'lux', 'yyz', 'gox', 'foo','hrt', 'juu']\n",
    "cat_features = ['fyt', 'lgh','year']\n",
    "target_feature = [\"target\"]\n",
    "selected_features = numerical_features + cat_features"
   ],
   "id": "cc2a59cfdb06d9f2",
   "outputs": [],
   "execution_count": 135
  },
  {
   "metadata": {
    "ExecuteTime": {
     "end_time": "2025-01-21T05:51:34.158310Z",
     "start_time": "2025-01-21T05:51:34.121053Z"
    }
   },
   "cell_type": "code",
   "source": "pp = pipeline.fit(data[numerical_features])",
   "id": "61c37b96cc84f6f8",
   "outputs": [],
   "execution_count": 136
  },
  {
   "metadata": {
    "ExecuteTime": {
     "end_time": "2025-01-21T05:51:34.178180Z",
     "start_time": "2025-01-21T05:51:34.159910Z"
    }
   },
   "cell_type": "code",
   "source": [
    "matrix_pp = pp.transform(data)\n",
    "data_pp = pd.DataFrame(matrix_pp, columns=numerical_features)\n",
    "data_pp[cat_features] = data[cat_features]\n",
    "data_pp[\"target\"] = data[\"target\"].tolist()"
   ],
   "id": "b4f6ae0ff974e10c",
   "outputs": [],
   "execution_count": 137
  },
  {
   "metadata": {
    "ExecuteTime": {
     "end_time": "2025-01-21T05:51:34.207818Z",
     "start_time": "2025-01-21T05:51:34.179231Z"
    }
   },
   "cell_type": "code",
   "source": "joblib.dump(pp, \"pipeline.pkl\")",
   "id": "9f5d527b15ad1b22",
   "outputs": [
    {
     "data": {
      "text/plain": [
       "['pipeline.pkl']"
      ]
     },
     "execution_count": 138,
     "metadata": {},
     "output_type": "execute_result"
    }
   ],
   "execution_count": 138
  },
  {
   "metadata": {
    "ExecuteTime": {
     "end_time": "2025-01-21T05:51:34.761179Z",
     "start_time": "2025-01-21T05:51:34.209067Z"
    }
   },
   "cell_type": "code",
   "source": [
    "train_df, test_df = train_test_split(data_pp, test_size=0.1, random_state=42)\n",
    "\n",
    "regressor = RandomForestRegressor(random_state=43)\n",
    "\n",
    "X_train = train_df[selected_features]\n",
    "y_train = train_df[\"target\"].tolist()\n",
    "\n",
    "X_eval = test_df[selected_features]\n",
    "y_eval = test_df[\"target\"].tolist()\n",
    "\n",
    "regressor.fit(X_train, y_train)\n",
    "\n",
    "y_pred = regressor.predict(X_eval)\n",
    "mse = mean_squared_error(y_eval, y_pred)  # Mean Squared Error\n",
    "print(\"RMSE\",np.sqrt(mse))"
   ],
   "id": "4a04f0abf9caaf60",
   "outputs": [
    {
     "name": "stdout",
     "output_type": "stream",
     "text": [
      "RMSE 42707.24148149509\n"
     ]
    }
   ],
   "execution_count": 139
  },
  {
   "metadata": {
    "ExecuteTime": {
     "end_time": "2025-01-21T05:51:34.797704Z",
     "start_time": "2025-01-21T05:51:34.763808Z"
    }
   },
   "cell_type": "code",
   "source": "joblib.dump(regressor, \"trained_model.pkl\")",
   "id": "c10663e15edfbbac",
   "outputs": [
    {
     "data": {
      "text/plain": [
       "['trained_model.pkl']"
      ]
     },
     "execution_count": 140,
     "metadata": {},
     "output_type": "execute_result"
    }
   ],
   "execution_count": 140
  },
  {
   "metadata": {},
   "cell_type": "markdown",
   "source": "Adding predictions",
   "id": "d74ab779fe7c146e"
  },
  {
   "metadata": {
    "ExecuteTime": {
     "end_time": "2025-01-21T05:51:34.804308Z",
     "start_time": "2025-01-21T05:51:34.798765Z"
    }
   },
   "cell_type": "code",
   "source": [
    "testing_path = \"/Users/cipri/Downloads/DataScience:MLTest/test.csv\"\n",
    "df_test = pd.read_csv(testing_path)"
   ],
   "id": "12c83be76f3cd99c",
   "outputs": [],
   "execution_count": 141
  },
  {
   "metadata": {
    "ExecuteTime": {
     "end_time": "2025-01-21T05:51:34.809388Z",
     "start_time": "2025-01-21T05:51:34.805456Z"
    }
   },
   "cell_type": "code",
   "source": [
    "df_test[\"date\"]=pd.to_datetime(df_test[\"date\"])\n",
    "df_test[\"year\"] = df_test[\"date\"].dt.year"
   ],
   "id": "7deacb6063bef22e",
   "outputs": [],
   "execution_count": 142
  },
  {
   "metadata": {
    "ExecuteTime": {
     "end_time": "2025-01-21T05:51:34.813080Z",
     "start_time": "2025-01-21T05:51:34.810396Z"
    }
   },
   "cell_type": "code",
   "source": [
    "numerical_features = ['drt','bar','xgt', 'qgg', 'lux', 'yyz', 'gox', 'foo','hrt', 'juu']\n",
    "cat_features = ['fyt', 'lgh','year']\n",
    "selected_features = numerical_features + cat_features"
   ],
   "id": "75ae77e17e4fcac5",
   "outputs": [],
   "execution_count": 143
  },
  {
   "metadata": {
    "ExecuteTime": {
     "end_time": "2025-01-21T05:51:34.828289Z",
     "start_time": "2025-01-21T05:51:34.814365Z"
    }
   },
   "cell_type": "code",
   "source": [
    "matrix_pp = pp.transform(df_test[numerical_features])\n",
    "df_test_pp = pd.DataFrame(matrix_pp, columns=numerical_features)\n",
    "df_test_pp[cat_features] = df_test[cat_features]"
   ],
   "id": "93eeea903aa4791e",
   "outputs": [],
   "execution_count": 144
  },
  {
   "metadata": {
    "ExecuteTime": {
     "end_time": "2025-01-21T05:51:34.846441Z",
     "start_time": "2025-01-21T05:51:34.829291Z"
    }
   },
   "cell_type": "code",
   "source": "df_test[\"predicted target\"]= regressor.predict(df_test_p[selected_features]).flatten()",
   "id": "26fd9ba71c10f8c7",
   "outputs": [],
   "execution_count": 145
  },
  {
   "metadata": {
    "ExecuteTime": {
     "end_time": "2025-01-21T05:51:34.863006Z",
     "start_time": "2025-01-21T05:51:34.850149Z"
    }
   },
   "cell_type": "code",
   "source": "df_test.to_csv(\"/Users/cipri/Downloads/DataScience:MLTest/test_with_predictions.csv\", index=False)",
   "id": "285b0f9dd8de56d8",
   "outputs": [],
   "execution_count": 146
  },
  {
   "metadata": {
    "ExecuteTime": {
     "end_time": "2025-01-21T05:51:34.890833Z",
     "start_time": "2025-01-21T05:51:34.872104Z"
    }
   },
   "cell_type": "code",
   "source": "pd.read_csv(\"/Users/cipri/Downloads/DataScience:MLTest/test_with_predictions.csv\")",
   "id": "1152d402eeb01963",
   "outputs": [
    {
     "data": {
      "text/plain": [
       "                                 image        date         bar  baz  \\\n",
       "0             test-img/boat/boat_3.jpg  2020-11-18  495.361007    0   \n",
       "1        test-img/person/person_53.jpg  2019-01-20  127.415879    1   \n",
       "2            test-img/boat/boat_62.jpg  2019-07-05  -48.353010    0   \n",
       "3               test-img/car/car_7.jpg  2020-12-15   53.163824    0   \n",
       "4               test-img/cat/cat_2.jpg  2020-03-20  -32.591336    0   \n",
       "..                                 ...         ...         ...  ...   \n",
       "102            test-img/cat/cat_22.jpg  2018-08-25  635.905103    1   \n",
       "103        test-img/llama/llama_39.jpg  2020-04-30  -49.033202    0   \n",
       "104  test-img/airplane/airplane_21.jpg  2020-12-08  226.581519    0   \n",
       "105            test-img/dog/dog_80.jpg  2021-02-06  135.592952    0   \n",
       "106          test-img/cake/cake_69.jpg  2020-09-05  -87.462623    1   \n",
       "\n",
       "            xgt        qgg          lux       wsg        yyz          drt  \\\n",
       "0    331.966668  21.021535  5190.710171  0.015209 -12.344110    -4.587213   \n",
       "1    396.851851   5.630238  4767.268227  0.010817   5.499534   -25.675941   \n",
       "2    414.096801  -0.406343  4452.181336  0.010609  -0.746068   -15.213459   \n",
       "3    365.537458  15.611367  5864.571557  0.013082 -17.029956   -38.933399   \n",
       "4    263.053669  -5.938351  4983.384140  0.015802  -7.017901    -7.066405   \n",
       "..          ...        ...          ...       ...        ...          ...   \n",
       "102  265.568956  13.205972  6218.386139  0.009958 -22.508451 -3476.106033   \n",
       "103 -132.867432  -0.852550  4546.338200  0.007076   0.408917    -1.384199   \n",
       "104 -116.669635 -18.865954  4791.772277  0.016145   8.229320    -3.479010   \n",
       "105   66.279837  18.033609  5074.465347  0.018193 -15.472254  -109.737508   \n",
       "106  -20.344123   0.372933  6478.611975  0.014685  -0.591185  -132.464106   \n",
       "\n",
       "           gox        foo         boz  fyt  lgh         hrt         juu  year  \\\n",
       "0   -11.226993  -7.996372    5.512998    1    0 -239.178795  245.806207  2020   \n",
       "1     3.239795  23.326502    3.817169    0    1 -192.272913  126.256960  2019   \n",
       "2    -0.518122  38.568789    3.019702    0    0 -113.590865  121.513203  2019   \n",
       "3    14.905780  43.321533    0.935854    1    0  -27.423755  183.329267  2020   \n",
       "4   -25.428807  37.850267    0.213952    1    1 -192.477269  264.677689  2020   \n",
       "..         ...        ...         ...  ...  ...         ...         ...   ...   \n",
       "102   6.652591  44.497852  113.737014    0    0   34.609875  107.259544  2018   \n",
       "103  -0.282366  47.206921    3.178050    1    0 -327.279878   54.518519  2020   \n",
       "104  18.144738  18.764662    1.456052    0    0 -140.698962  275.884990  2020   \n",
       "105  13.744837  13.214807    0.493897    0    0 -339.585373  347.019496  2021   \n",
       "106   0.727333  39.794066    0.039922    0    1 -367.842591  229.631358  2020   \n",
       "\n",
       "     predicted target  \n",
       "0       -44043.338870  \n",
       "1        21474.404028  \n",
       "2        59752.713931  \n",
       "3      -121840.841875  \n",
       "4        29921.839089  \n",
       "..                ...  \n",
       "102    -123511.466464  \n",
       "103      54585.202144  \n",
       "104      20541.775686  \n",
       "105       2034.513570  \n",
       "106      -5738.628431  \n",
       "\n",
       "[107 rows x 19 columns]"
      ],
      "text/html": [
       "<div>\n",
       "<style scoped>\n",
       "    .dataframe tbody tr th:only-of-type {\n",
       "        vertical-align: middle;\n",
       "    }\n",
       "\n",
       "    .dataframe tbody tr th {\n",
       "        vertical-align: top;\n",
       "    }\n",
       "\n",
       "    .dataframe thead th {\n",
       "        text-align: right;\n",
       "    }\n",
       "</style>\n",
       "<table border=\"1\" class=\"dataframe\">\n",
       "  <thead>\n",
       "    <tr style=\"text-align: right;\">\n",
       "      <th></th>\n",
       "      <th>image</th>\n",
       "      <th>date</th>\n",
       "      <th>bar</th>\n",
       "      <th>baz</th>\n",
       "      <th>xgt</th>\n",
       "      <th>qgg</th>\n",
       "      <th>lux</th>\n",
       "      <th>wsg</th>\n",
       "      <th>yyz</th>\n",
       "      <th>drt</th>\n",
       "      <th>gox</th>\n",
       "      <th>foo</th>\n",
       "      <th>boz</th>\n",
       "      <th>fyt</th>\n",
       "      <th>lgh</th>\n",
       "      <th>hrt</th>\n",
       "      <th>juu</th>\n",
       "      <th>year</th>\n",
       "      <th>predicted target</th>\n",
       "    </tr>\n",
       "  </thead>\n",
       "  <tbody>\n",
       "    <tr>\n",
       "      <th>0</th>\n",
       "      <td>test-img/boat/boat_3.jpg</td>\n",
       "      <td>2020-11-18</td>\n",
       "      <td>495.361007</td>\n",
       "      <td>0</td>\n",
       "      <td>331.966668</td>\n",
       "      <td>21.021535</td>\n",
       "      <td>5190.710171</td>\n",
       "      <td>0.015209</td>\n",
       "      <td>-12.344110</td>\n",
       "      <td>-4.587213</td>\n",
       "      <td>-11.226993</td>\n",
       "      <td>-7.996372</td>\n",
       "      <td>5.512998</td>\n",
       "      <td>1</td>\n",
       "      <td>0</td>\n",
       "      <td>-239.178795</td>\n",
       "      <td>245.806207</td>\n",
       "      <td>2020</td>\n",
       "      <td>-44043.338870</td>\n",
       "    </tr>\n",
       "    <tr>\n",
       "      <th>1</th>\n",
       "      <td>test-img/person/person_53.jpg</td>\n",
       "      <td>2019-01-20</td>\n",
       "      <td>127.415879</td>\n",
       "      <td>1</td>\n",
       "      <td>396.851851</td>\n",
       "      <td>5.630238</td>\n",
       "      <td>4767.268227</td>\n",
       "      <td>0.010817</td>\n",
       "      <td>5.499534</td>\n",
       "      <td>-25.675941</td>\n",
       "      <td>3.239795</td>\n",
       "      <td>23.326502</td>\n",
       "      <td>3.817169</td>\n",
       "      <td>0</td>\n",
       "      <td>1</td>\n",
       "      <td>-192.272913</td>\n",
       "      <td>126.256960</td>\n",
       "      <td>2019</td>\n",
       "      <td>21474.404028</td>\n",
       "    </tr>\n",
       "    <tr>\n",
       "      <th>2</th>\n",
       "      <td>test-img/boat/boat_62.jpg</td>\n",
       "      <td>2019-07-05</td>\n",
       "      <td>-48.353010</td>\n",
       "      <td>0</td>\n",
       "      <td>414.096801</td>\n",
       "      <td>-0.406343</td>\n",
       "      <td>4452.181336</td>\n",
       "      <td>0.010609</td>\n",
       "      <td>-0.746068</td>\n",
       "      <td>-15.213459</td>\n",
       "      <td>-0.518122</td>\n",
       "      <td>38.568789</td>\n",
       "      <td>3.019702</td>\n",
       "      <td>0</td>\n",
       "      <td>0</td>\n",
       "      <td>-113.590865</td>\n",
       "      <td>121.513203</td>\n",
       "      <td>2019</td>\n",
       "      <td>59752.713931</td>\n",
       "    </tr>\n",
       "    <tr>\n",
       "      <th>3</th>\n",
       "      <td>test-img/car/car_7.jpg</td>\n",
       "      <td>2020-12-15</td>\n",
       "      <td>53.163824</td>\n",
       "      <td>0</td>\n",
       "      <td>365.537458</td>\n",
       "      <td>15.611367</td>\n",
       "      <td>5864.571557</td>\n",
       "      <td>0.013082</td>\n",
       "      <td>-17.029956</td>\n",
       "      <td>-38.933399</td>\n",
       "      <td>14.905780</td>\n",
       "      <td>43.321533</td>\n",
       "      <td>0.935854</td>\n",
       "      <td>1</td>\n",
       "      <td>0</td>\n",
       "      <td>-27.423755</td>\n",
       "      <td>183.329267</td>\n",
       "      <td>2020</td>\n",
       "      <td>-121840.841875</td>\n",
       "    </tr>\n",
       "    <tr>\n",
       "      <th>4</th>\n",
       "      <td>test-img/cat/cat_2.jpg</td>\n",
       "      <td>2020-03-20</td>\n",
       "      <td>-32.591336</td>\n",
       "      <td>0</td>\n",
       "      <td>263.053669</td>\n",
       "      <td>-5.938351</td>\n",
       "      <td>4983.384140</td>\n",
       "      <td>0.015802</td>\n",
       "      <td>-7.017901</td>\n",
       "      <td>-7.066405</td>\n",
       "      <td>-25.428807</td>\n",
       "      <td>37.850267</td>\n",
       "      <td>0.213952</td>\n",
       "      <td>1</td>\n",
       "      <td>1</td>\n",
       "      <td>-192.477269</td>\n",
       "      <td>264.677689</td>\n",
       "      <td>2020</td>\n",
       "      <td>29921.839089</td>\n",
       "    </tr>\n",
       "    <tr>\n",
       "      <th>...</th>\n",
       "      <td>...</td>\n",
       "      <td>...</td>\n",
       "      <td>...</td>\n",
       "      <td>...</td>\n",
       "      <td>...</td>\n",
       "      <td>...</td>\n",
       "      <td>...</td>\n",
       "      <td>...</td>\n",
       "      <td>...</td>\n",
       "      <td>...</td>\n",
       "      <td>...</td>\n",
       "      <td>...</td>\n",
       "      <td>...</td>\n",
       "      <td>...</td>\n",
       "      <td>...</td>\n",
       "      <td>...</td>\n",
       "      <td>...</td>\n",
       "      <td>...</td>\n",
       "      <td>...</td>\n",
       "    </tr>\n",
       "    <tr>\n",
       "      <th>102</th>\n",
       "      <td>test-img/cat/cat_22.jpg</td>\n",
       "      <td>2018-08-25</td>\n",
       "      <td>635.905103</td>\n",
       "      <td>1</td>\n",
       "      <td>265.568956</td>\n",
       "      <td>13.205972</td>\n",
       "      <td>6218.386139</td>\n",
       "      <td>0.009958</td>\n",
       "      <td>-22.508451</td>\n",
       "      <td>-3476.106033</td>\n",
       "      <td>6.652591</td>\n",
       "      <td>44.497852</td>\n",
       "      <td>113.737014</td>\n",
       "      <td>0</td>\n",
       "      <td>0</td>\n",
       "      <td>34.609875</td>\n",
       "      <td>107.259544</td>\n",
       "      <td>2018</td>\n",
       "      <td>-123511.466464</td>\n",
       "    </tr>\n",
       "    <tr>\n",
       "      <th>103</th>\n",
       "      <td>test-img/llama/llama_39.jpg</td>\n",
       "      <td>2020-04-30</td>\n",
       "      <td>-49.033202</td>\n",
       "      <td>0</td>\n",
       "      <td>-132.867432</td>\n",
       "      <td>-0.852550</td>\n",
       "      <td>4546.338200</td>\n",
       "      <td>0.007076</td>\n",
       "      <td>0.408917</td>\n",
       "      <td>-1.384199</td>\n",
       "      <td>-0.282366</td>\n",
       "      <td>47.206921</td>\n",
       "      <td>3.178050</td>\n",
       "      <td>1</td>\n",
       "      <td>0</td>\n",
       "      <td>-327.279878</td>\n",
       "      <td>54.518519</td>\n",
       "      <td>2020</td>\n",
       "      <td>54585.202144</td>\n",
       "    </tr>\n",
       "    <tr>\n",
       "      <th>104</th>\n",
       "      <td>test-img/airplane/airplane_21.jpg</td>\n",
       "      <td>2020-12-08</td>\n",
       "      <td>226.581519</td>\n",
       "      <td>0</td>\n",
       "      <td>-116.669635</td>\n",
       "      <td>-18.865954</td>\n",
       "      <td>4791.772277</td>\n",
       "      <td>0.016145</td>\n",
       "      <td>8.229320</td>\n",
       "      <td>-3.479010</td>\n",
       "      <td>18.144738</td>\n",
       "      <td>18.764662</td>\n",
       "      <td>1.456052</td>\n",
       "      <td>0</td>\n",
       "      <td>0</td>\n",
       "      <td>-140.698962</td>\n",
       "      <td>275.884990</td>\n",
       "      <td>2020</td>\n",
       "      <td>20541.775686</td>\n",
       "    </tr>\n",
       "    <tr>\n",
       "      <th>105</th>\n",
       "      <td>test-img/dog/dog_80.jpg</td>\n",
       "      <td>2021-02-06</td>\n",
       "      <td>135.592952</td>\n",
       "      <td>0</td>\n",
       "      <td>66.279837</td>\n",
       "      <td>18.033609</td>\n",
       "      <td>5074.465347</td>\n",
       "      <td>0.018193</td>\n",
       "      <td>-15.472254</td>\n",
       "      <td>-109.737508</td>\n",
       "      <td>13.744837</td>\n",
       "      <td>13.214807</td>\n",
       "      <td>0.493897</td>\n",
       "      <td>0</td>\n",
       "      <td>0</td>\n",
       "      <td>-339.585373</td>\n",
       "      <td>347.019496</td>\n",
       "      <td>2021</td>\n",
       "      <td>2034.513570</td>\n",
       "    </tr>\n",
       "    <tr>\n",
       "      <th>106</th>\n",
       "      <td>test-img/cake/cake_69.jpg</td>\n",
       "      <td>2020-09-05</td>\n",
       "      <td>-87.462623</td>\n",
       "      <td>1</td>\n",
       "      <td>-20.344123</td>\n",
       "      <td>0.372933</td>\n",
       "      <td>6478.611975</td>\n",
       "      <td>0.014685</td>\n",
       "      <td>-0.591185</td>\n",
       "      <td>-132.464106</td>\n",
       "      <td>0.727333</td>\n",
       "      <td>39.794066</td>\n",
       "      <td>0.039922</td>\n",
       "      <td>0</td>\n",
       "      <td>1</td>\n",
       "      <td>-367.842591</td>\n",
       "      <td>229.631358</td>\n",
       "      <td>2020</td>\n",
       "      <td>-5738.628431</td>\n",
       "    </tr>\n",
       "  </tbody>\n",
       "</table>\n",
       "<p>107 rows × 19 columns</p>\n",
       "</div>"
      ]
     },
     "execution_count": 147,
     "metadata": {},
     "output_type": "execute_result"
    }
   ],
   "execution_count": 147
  }
 ],
 "metadata": {
  "kernelspec": {
   "display_name": "Python 3",
   "language": "python",
   "name": "python3"
  },
  "language_info": {
   "codemirror_mode": {
    "name": "ipython",
    "version": 2
   },
   "file_extension": ".py",
   "mimetype": "text/x-python",
   "name": "python",
   "nbconvert_exporter": "python",
   "pygments_lexer": "ipython2",
   "version": "2.7.6"
  }
 },
 "nbformat": 4,
 "nbformat_minor": 5
}
